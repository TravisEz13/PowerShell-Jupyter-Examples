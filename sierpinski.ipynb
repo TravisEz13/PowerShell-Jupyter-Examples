{
 "cells": [
  {
   "cell_type": "code",
   "execution_count": 12,
   "metadata": {},
   "outputs": [],
   "source": [
    "#Define the x and y axis max\n",
    "$max = 100\n",
    "\n",
    "#Define the number of points at which we will stop and render the chart\n",
    "$pointCount = 20000\n",
    "\n",
    "# Create the list of x and y location that the point landed on\n",
    "$x = [System.Collections.Generic.List[Double]]::new($pointCount)\n",
    "$y = [System.Collections.Generic.List[Double]]::new($pointCount)"
   ]
  },
  {
   "cell_type": "code",
   "execution_count": 13,
   "metadata": {},
   "outputs": [],
   "source": [
    "# Define the x-axis for the plot\n",
    "$xaxis = [XPlot.Plotly.Graph+Xaxis]::new()\n",
    "$xaxis.showticklabels = $false\n",
    "$xaxis.showgrid = $false\n",
    "$xaxis.zeroline = $false\n",
    "\n",
    "# Define the y-axis for the plot\n",
    "$yaxis = [XPlot.Plotly.Graph+Yaxis]::new()\n",
    "$yaxis.showticklabels = $false\n",
    "$yaxis.showgrid = $false\n",
    "$yaxis.zeroline = $false\n",
    "\n",
    "# Define the marker for a point\n",
    "$marker = [XPlot.Plotly.Graph+Marker]::new()\n",
    "$marker.color = \"rgb(34, 139, 37)\"\n",
    "$marker.Size = 2"
   ]
  },
  {
   "cell_type": "code",
   "execution_count": 14,
   "metadata": {},
   "outputs": [],
   "source": [
    "# Define and initialize a point\n",
    "\n",
    "# Define a class to track the point\n",
    "class point {\n",
    "    [double] $x\n",
    "    [double] $y\n",
    "}\n",
    "\n",
    "# Create the current point\n",
    "[point] $point = [point]::new()\n",
    "\n",
    "# start the point at 0,0\n",
    "$point.x = 0\n",
    "$point.y = 0\n",
    "\n",
    "# Add the initial point to the lists\n",
    "$x.Add($point.x)\n",
    "$y.Add($point.y)"
   ]
  },
  {
   "cell_type": "code",
   "execution_count": 17,
   "metadata": {},
   "outputs": [
    {
     "data": {
      "text/html": [
       "<pre>VERBOSE: data creation seconds: 5.5207413 for 20000 points</pre>\n"
      ]
     },
     "metadata": {},
     "output_type": "display_data"
    }
   ],
   "source": [
    "# Create a look for the number of points to create\n",
    "$seconds = (Measure-Command {\n",
    "    foreach($i in 1..$pointCount) {\n",
    "\n",
    "        # Get and random number to choose which direction to move\n",
    "        $direction = Get-random -Minimum 0 -Maximum 3\n",
    "        switch($direction){\n",
    "            # if 0, move toward 0,0\n",
    "            0{\n",
    "                Write-Verbose \"towards 0\"\n",
    "                $point.x= $point.x/2\n",
    "                $point.y = $point.y/2\n",
    "            }\n",
    "\n",
    "            # if 1, move toward max,0\n",
    "            1{\n",
    "                Write-Verbose \"towards xMax\"\n",
    "                $point.x= ($point.x+$max)/2\n",
    "                $point.y = $point.y/2\n",
    "\n",
    "            }\n",
    "\n",
    "            # if 2, move toward 0,max\n",
    "            2{\n",
    "                Write-Verbose \"towards yMax\"\n",
    "                $point.x= $point.x/2\n",
    "                $point.y = ($point.y+$max)/2        \n",
    "            }\n",
    "        }\n",
    "\n",
    "        # add the current point to the lists\n",
    "        $x.Add($point.x)\n",
    "        $y.Add($point.y)\n",
    "    }\n",
    "}).TotalSeconds\n",
    "\n",
    "Write-Verbose -Message \"data creation seconds: $seconds for $pointCount points\" -Verbose"
   ]
  },
  {
   "cell_type": "code",
   "execution_count": null,
   "metadata": {},
   "outputs": [],
   "source": [
    "# Create the trace of the points\n",
    "$seconds = (Measure-Command {\n",
    "$p1 = [XPlot.Plotly.Graph+Scattergl]::new()\n",
    "$p1.x  = $x.ToArray()\n",
    "$p1.y  = $y.ToArray()\n",
    "$p1.mode = \"markers\"\n",
    "$p1.marker  = $marker\n",
    "\n",
    "$layout = [XPlot.Plotly.Layout+Layout]::new()\n",
    "$layout.width = 550\n",
    "$layout.height = 550\n",
    "\n",
    "$layout.xaxis = $xaxis\n",
    "$layout.yaxis = $yaxis\n",
    "# Render the chart\n",
    "New-PlotlyChart -trace $p1 -Layout $layout  | Out-Display\n",
    "}).TotalSeconds\n",
    "Write-Verbose -Message \"rendering seconds: $seconds\" -Verbose"
   ]
  },
  {
   "cell_type": "code",
   "execution_count": null,
   "metadata": {},
   "outputs": [],
   "source": []
  }
 ],
 "metadata": {
  "kernelspec": {
   "display_name": ".NET (PowerShell)",
   "language": "PowerShell",
   "name": ".net-powershell"
  },
  "language_info": {
   "file_extension": ".ps1",
   "mimetype": "text/x-powershell",
   "name": "PowerShell",
   "pygments_lexer": "powershell",
   "version": "7.0"
  }
 },
 "nbformat": 4,
 "nbformat_minor": 4
}
