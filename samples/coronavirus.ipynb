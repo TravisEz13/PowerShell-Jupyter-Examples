{
 "cells": [
  {
   "cell_type": "code",
   "execution_count": null,
   "metadata": {},
   "outputs": [],
   "source": [
    "$confirmedString = (Invoke-WebRequest -Uri https://raw.githubusercontent.com/CSSEGISandData/COVID-19/master/csse_covid_19_data/csse_covid_19_time_series/time_series_19-covid-Confirmed.csv).Content\n",
    "$recoveredString = (Invoke-WebRequest -Uri https://raw.githubusercontent.com/CSSEGISandData/COVID-19/master/csse_covid_19_data/csse_covid_19_time_series/time_series_19-covid-Recovered.csv).Content\n",
    "$mortalityString = (Invoke-WebRequest -Uri https://raw.githubusercontent.com/CSSEGISandData/COVID-19/master/csse_covid_19_data/csse_covid_19_time_series/time_series_19-covid-Deaths.csv).Content"
   ]
  },
  {
   "cell_type": "code",
   "execution_count": null,
   "metadata": {},
   "outputs": [],
   "source": [
    "# Filter to the United States\n",
    "$usConfirmedByArea = $confirmedString | ConvertFrom-CSV | Where-Object { $_.'Country/Region' -eq 'US'}\n",
    "$usRecoveredByArea  = $recoveredString | ConvertFrom-CSV | Where-Object { $_.'Country/Region' -eq 'US'}\n",
    "$usMortalityByArea  = $mortalityString | ConvertFrom-CSV | Where-Object { $_.'Country/Region' -eq 'US'}\n",
    "\n",
    "Write-Verbose \"$($usConfirmedByArea.Count) confirmed cases Areas\" -verbose\n",
    "Write-Verbose \"$($usRecoveredByArea.Count) recovery Areas\" -verbose\n",
    "Write-Verbose \"$($usMortalityByArea.Count) mortality Areas\" -verbose"
   ]
  },
  {
   "cell_type": "code",
   "execution_count": null,
   "metadata": {},
   "outputs": [],
   "source": [
    "# Get unique dates on or after 2/15\n",
    "$dates = $usConfirmedByArea[0] | Get-member -MemberType NoteProperty  | Where-Object {$_.Name -match '\\d+/\\d+/\\d+' -and ([datetime] $_.Name) -ge ([datetime] '2/15/2020')} | Select-Object -ExpandProperty Name"
   ]
  },
  {
   "cell_type": "code",
   "execution_count": null,
   "metadata": {},
   "outputs": [],
   "source": [
    "# Summarize the data for each date\n",
    "$usSummary = @()\n",
    "foreach($date in $dates)\n",
    "{\n",
    "    #Write-Verbose $date -Verbose\n",
    "    $confirmedSum = ($usConfirmedByArea | Measure-Object -Sum -Property $date).Sum\n",
    "    $recoveredSum = ($usRecoveredByArea | Measure-Object -Sum -Property $date).Sum\n",
    "    $mortalitySum = ($usMortalityByArea | Measure-Object -Sum -Property $date).Sum\n",
    "    $usSummary += [pscustomobject] @{\n",
    "        date = [datetime] $date\n",
    "        confirmed = $confirmedSum\n",
    "        recovered = $recoveredSum\n",
    "        deaths = $mortalitySum\n",
    "        activeCases = $confirmedSum - ($mortalitySum + $recoveredSum)\n",
    "    }\n",
    "}\n",
    "$usSummary = $usSummary | Sort-Object -Property Date\n",
    "Write-Verbose \"$($usSummary.Count) days\" -verbose"
   ]
  },
  {
   "cell_type": "code",
   "execution_count": null,
   "metadata": {},
   "outputs": [],
   "source": [
    "# Define the x-axis for the plot\n",
    "$xaxis = [XPlot.Plotly.Graph+Xaxis]::new()\n",
    "$xaxis.nticks = 23\n",
    "# https://github.com/d3/d3-time-format/blob/master/README.md\n",
    "$xaxis.tickformat = '%m-%d'\n",
    "\n",
    "# Define the y-axis for the plot\n",
    "$yaxis = [XPlot.Plotly.Graph+Yaxis]::new()\n",
    "\n",
    "# Define the marker for a point\n",
    "$marker = [XPlot.Plotly.Graph+Marker]::new()\n",
    "$marker.color = \"rgb(255, 0, 0)\"\n",
    "$marker.Size =15\n",
    "\n",
    "# Define the marker for a point\n",
    "$recoveredMarker = [XPlot.Plotly.Graph+Marker]::new()\n",
    "$recoveredMarker.color = \"rgb(0, 255, 0)\"\n",
    "$recoveredMarker.Size =10\n",
    "\n",
    "# Define the marker for a point\n",
    "$mortalityMarker = [XPlot.Plotly.Graph+Marker]::new()\n",
    "$mortalityMarker.color = \"rgb(0, 0, 0)\"\n",
    "$mortalityMarker.Size =10\n",
    "\n",
    "# Define the marker for a point\n",
    "$activeMarker = [XPlot.Plotly.Graph+Marker]::new()\n",
    "$activeMarker.color = \"rgb(255, 165, 0)\"\n",
    "$activeMarker.Size =5\n"
   ]
  },
  {
   "cell_type": "code",
   "execution_count": null,
   "metadata": {},
   "outputs": [],
   "source": [
    "#Format the traces\n",
    "\n",
    "$usConfirmedTrace = [XPlot.Plotly.Graph+Scatter]::new()\n",
    "\n",
    "$usConfirmedTrace.x  = $usSummary.Date\n",
    "$usConfirmedTrace.y  = $usSummary.Confirmed\n",
    "$usConfirmedTrace.text = 'US Confirmed'\n",
    "$usConfirmedTrace.marker  = $marker\n",
    "$usConfirmedTrace.name = 'US Confirmed'\n",
    "\n",
    "$usRecoveredTrace = [XPlot.Plotly.Graph+Scatter]::new()\n",
    "\n",
    "$usRecoveredTrace.x  = $usSummary.Date\n",
    "$usRecoveredTrace.y  = $usSummary.Recovered\n",
    "$usRecoveredTrace.text = 'US Recovered'\n",
    "$usRecoveredTrace.marker  = $recoveredMarker\n",
    "$usRecoveredTrace.name = 'US Recovered'\n",
    "\n",
    "$usMortalityTrace = [XPlot.Plotly.Graph+Scatter]::new()\n",
    "\n",
    "$usMortalityTrace.x  = $usSummary.Date\n",
    "$usMortalityTrace.y  = $usSummary.Deaths\n",
    "$usMortalityTrace.text = 'US Deaths'\n",
    "$usMortalityTrace.marker  = $mortalityMarker\n",
    "$usMortalityTrace.name = 'US Deaths'\n",
    "\n",
    "$usActiveTrace = [XPlot.Plotly.Graph+Scatter]::new()\n",
    "\n",
    "$usActiveTrace.x  = $usSummary.Date\n",
    "$usActiveTrace.y  = $usSummary.ActiveCases\n",
    "$usActiveTrace.marker  = $activeMarker\n",
    "$usActiveTrace.name = 'US Active Cases'\n"
   ]
  },
  {
   "cell_type": "code",
   "execution_count": null,
   "metadata": {},
   "outputs": [],
   "source": [
    "# Create the chart\n",
    "$layout = [XPlot.Plotly.Layout+Layout]::new()\n",
    "$layout.width = 1024\n",
    "$layout.height = 400\n",
    "\n",
    "$layout.xaxis = $xaxis\n",
    "$layout.yaxis = $yaxis\n",
    "$layout.title = \"John Hopkins - US - Coronavirus Data\"\n",
    "$layout.showlegend = $true\n",
    "# Render the chart\n",
    "New-PlotlyChart -trace $usConfirmedTrace,$usRecoveredTrace,$usMortalityTrace, $usActiveTrace -Layout $layout  | Out-Display"
   ]
  },
  {
   "cell_type": "code",
   "execution_count": null,
   "metadata": {},
   "outputs": [],
   "source": []
  }
 ],
 "metadata": {
  "kernelspec": {
   "display_name": ".NET (PowerShell)",
   "language": "PowerShell",
   "name": ".net-powershell"
  },
  "language_info": {
   "file_extension": ".ps1",
   "mimetype": "text/x-powershell",
   "name": "PowerShell",
   "pygments_lexer": "powershell",
   "version": "7.0"
  }
 },
 "nbformat": 4,
 "nbformat_minor": 4
}
